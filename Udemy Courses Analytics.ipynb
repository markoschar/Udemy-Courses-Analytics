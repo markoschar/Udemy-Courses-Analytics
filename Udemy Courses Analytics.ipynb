{
 "cells": [
  {
   "cell_type": "markdown",
   "id": "445d7e26",
   "metadata": {},
   "source": [
    "## University of Nicosia ##\n",
    "## COMP-548DL ##\n",
    "### Big Data Management and Processing\n",
    "### Markos Charalampous\n",
    "### Udemy Courses Analytics"
   ]
  },
  {
   "cell_type": "markdown",
   "id": "889ccc79",
   "metadata": {},
   "source": [
    "Udemy, Inc. is a global destination platform for teaching and learning online with more than 57 million students, 213,000 courses, and 74,000 instructors teaching courses in over 75 languages.\n",
    "For this project, 2 datasets were used. The first file('Course_info.csv') contains basic information about 210k courses, while the second one('Comments.csv') contains more than 9M comments for these courses.\n",
    "\n",
    "Please use the [Udemy Kaggle link](https://www.kaggle.com/datasets/hossaingh/udemy-courses) for more details on the dataset."
   ]
  },
  {
   "cell_type": "code",
   "execution_count": 1,
   "id": "30d3b97a",
   "metadata": {},
   "outputs": [],
   "source": [
    "# import libraries\n",
    "import pandas as pd\n",
    "import numpy as np\n",
    "import matplotlib.pyplot as plt\n",
    "import seaborn as sns\n",
    "from numerize import numerize"
   ]
  },
  {
   "cell_type": "markdown",
   "id": "0f03b4ff",
   "metadata": {},
   "source": [
    "### Load Courses Dataset"
   ]
  },
  {
   "cell_type": "code",
   "execution_count": 2,
   "id": "756bee53",
   "metadata": {},
   "outputs": [],
   "source": [
    "# load courses dataset into a dataframe\n",
    "df_courses = pd.read_csv('Course_info.csv')"
   ]
  },
  {
   "cell_type": "markdown",
   "id": "84b5aa1f",
   "metadata": {},
   "source": [
    "### Courses General Information"
   ]
  },
  {
   "cell_type": "code",
   "execution_count": 3,
   "id": "f6487c28",
   "metadata": {},
   "outputs": [
    {
     "data": {
      "text/html": [
       "<div>\n",
       "<style scoped>\n",
       "    .dataframe tbody tr th:only-of-type {\n",
       "        vertical-align: middle;\n",
       "    }\n",
       "\n",
       "    .dataframe tbody tr th {\n",
       "        vertical-align: top;\n",
       "    }\n",
       "\n",
       "    .dataframe thead th {\n",
       "        text-align: right;\n",
       "    }\n",
       "</style>\n",
       "<table border=\"1\" class=\"dataframe\">\n",
       "  <thead>\n",
       "    <tr style=\"text-align: right;\">\n",
       "      <th></th>\n",
       "      <th>id</th>\n",
       "      <th>title</th>\n",
       "      <th>is_paid</th>\n",
       "      <th>price</th>\n",
       "      <th>headline</th>\n",
       "      <th>num_subscribers</th>\n",
       "      <th>avg_rating</th>\n",
       "      <th>num_reviews</th>\n",
       "      <th>num_comments</th>\n",
       "      <th>num_lectures</th>\n",
       "      <th>content_length_min</th>\n",
       "      <th>published_time</th>\n",
       "      <th>last_update_date</th>\n",
       "      <th>category</th>\n",
       "      <th>subcategory</th>\n",
       "      <th>topic</th>\n",
       "      <th>language</th>\n",
       "      <th>course_url</th>\n",
       "      <th>instructor_name</th>\n",
       "      <th>instructor_url</th>\n",
       "    </tr>\n",
       "  </thead>\n",
       "  <tbody>\n",
       "    <tr>\n",
       "      <th>0</th>\n",
       "      <td>4715.0</td>\n",
       "      <td>Online Vegan Vegetarian Cooking School</td>\n",
       "      <td>True</td>\n",
       "      <td>24.99</td>\n",
       "      <td>Learn to cook delicious vegan recipes. Filmed ...</td>\n",
       "      <td>2231.0</td>\n",
       "      <td>3.75</td>\n",
       "      <td>134.0</td>\n",
       "      <td>42.0</td>\n",
       "      <td>37.0</td>\n",
       "      <td>1268.0</td>\n",
       "      <td>2010-08-05T22:06:13Z</td>\n",
       "      <td>2020-11-06</td>\n",
       "      <td>Lifestyle</td>\n",
       "      <td>Food &amp; Beverage</td>\n",
       "      <td>Vegan Cooking</td>\n",
       "      <td>English</td>\n",
       "      <td>/course/vegan-vegetarian-cooking-school/</td>\n",
       "      <td>Angela Poch</td>\n",
       "      <td>/user/angelapoch/</td>\n",
       "    </tr>\n",
       "    <tr>\n",
       "      <th>1</th>\n",
       "      <td>1769.0</td>\n",
       "      <td>The Lean Startup Talk at Stanford E-Corner</td>\n",
       "      <td>False</td>\n",
       "      <td>0.00</td>\n",
       "      <td>Debunking Myths of Entrepreneurship A startup ...</td>\n",
       "      <td>26474.0</td>\n",
       "      <td>4.50</td>\n",
       "      <td>709.0</td>\n",
       "      <td>112.0</td>\n",
       "      <td>9.0</td>\n",
       "      <td>88.0</td>\n",
       "      <td>2010-01-12T18:09:46Z</td>\n",
       "      <td>NaN</td>\n",
       "      <td>Business</td>\n",
       "      <td>Entrepreneurship</td>\n",
       "      <td>Lean Startup</td>\n",
       "      <td>English</td>\n",
       "      <td>/course/the-lean-startup-debunking-myths-of-en...</td>\n",
       "      <td>Eric Ries</td>\n",
       "      <td>/user/ericries/</td>\n",
       "    </tr>\n",
       "    <tr>\n",
       "      <th>2</th>\n",
       "      <td>5664.0</td>\n",
       "      <td>How To Become a Vegan, Vegetarian, or Flexitarian</td>\n",
       "      <td>True</td>\n",
       "      <td>19.99</td>\n",
       "      <td>Get the tools you need for a lifestyle change ...</td>\n",
       "      <td>1713.0</td>\n",
       "      <td>4.40</td>\n",
       "      <td>41.0</td>\n",
       "      <td>13.0</td>\n",
       "      <td>14.0</td>\n",
       "      <td>82.0</td>\n",
       "      <td>2010-10-13T18:07:17Z</td>\n",
       "      <td>2019-10-09</td>\n",
       "      <td>Lifestyle</td>\n",
       "      <td>Other Lifestyle</td>\n",
       "      <td>Vegan Cooking</td>\n",
       "      <td>English</td>\n",
       "      <td>/course/see-my-personal-motivation-for-becomin...</td>\n",
       "      <td>Angela Poch</td>\n",
       "      <td>/user/angelapoch/</td>\n",
       "    </tr>\n",
       "    <tr>\n",
       "      <th>3</th>\n",
       "      <td>7723.0</td>\n",
       "      <td>How to Train a Puppy</td>\n",
       "      <td>True</td>\n",
       "      <td>199.99</td>\n",
       "      <td>Train your puppy the right way with Dr. Ian Du...</td>\n",
       "      <td>4988.0</td>\n",
       "      <td>4.80</td>\n",
       "      <td>395.0</td>\n",
       "      <td>88.0</td>\n",
       "      <td>36.0</td>\n",
       "      <td>1511.0</td>\n",
       "      <td>2011-06-20T20:08:38Z</td>\n",
       "      <td>2016-01-13</td>\n",
       "      <td>Lifestyle</td>\n",
       "      <td>Pet Care &amp; Training</td>\n",
       "      <td>Pet Training</td>\n",
       "      <td>English</td>\n",
       "      <td>/course/complete-dunbar-collection/</td>\n",
       "      <td>Ian Dunbar</td>\n",
       "      <td>/user/ian-dunbar/</td>\n",
       "    </tr>\n",
       "    <tr>\n",
       "      <th>4</th>\n",
       "      <td>8157.0</td>\n",
       "      <td>Web Design from the Ground Up</td>\n",
       "      <td>True</td>\n",
       "      <td>159.99</td>\n",
       "      <td>Learn web design online: Everything you need t...</td>\n",
       "      <td>1266.0</td>\n",
       "      <td>4.75</td>\n",
       "      <td>38.0</td>\n",
       "      <td>12.0</td>\n",
       "      <td>38.0</td>\n",
       "      <td>569.0</td>\n",
       "      <td>2011-06-23T18:31:20Z</td>\n",
       "      <td>NaN</td>\n",
       "      <td>Design</td>\n",
       "      <td>Web Design</td>\n",
       "      <td>Web Design</td>\n",
       "      <td>English</td>\n",
       "      <td>/course/web-design-from-the-ground-up/</td>\n",
       "      <td>E Learning Lab</td>\n",
       "      <td>/user/edwin-ang-2/</td>\n",
       "    </tr>\n",
       "  </tbody>\n",
       "</table>\n",
       "</div>"
      ],
      "text/plain": [
       "       id                                              title  is_paid   price  \\\n",
       "0  4715.0             Online Vegan Vegetarian Cooking School     True   24.99   \n",
       "1  1769.0         The Lean Startup Talk at Stanford E-Corner    False    0.00   \n",
       "2  5664.0  How To Become a Vegan, Vegetarian, or Flexitarian     True   19.99   \n",
       "3  7723.0                               How to Train a Puppy     True  199.99   \n",
       "4  8157.0                      Web Design from the Ground Up     True  159.99   \n",
       "\n",
       "                                            headline  num_subscribers  \\\n",
       "0  Learn to cook delicious vegan recipes. Filmed ...           2231.0   \n",
       "1  Debunking Myths of Entrepreneurship A startup ...          26474.0   \n",
       "2  Get the tools you need for a lifestyle change ...           1713.0   \n",
       "3  Train your puppy the right way with Dr. Ian Du...           4988.0   \n",
       "4  Learn web design online: Everything you need t...           1266.0   \n",
       "\n",
       "   avg_rating  num_reviews  num_comments  num_lectures  content_length_min  \\\n",
       "0        3.75        134.0          42.0          37.0              1268.0   \n",
       "1        4.50        709.0         112.0           9.0                88.0   \n",
       "2        4.40         41.0          13.0          14.0                82.0   \n",
       "3        4.80        395.0          88.0          36.0              1511.0   \n",
       "4        4.75         38.0          12.0          38.0               569.0   \n",
       "\n",
       "         published_time last_update_date   category          subcategory  \\\n",
       "0  2010-08-05T22:06:13Z       2020-11-06  Lifestyle      Food & Beverage   \n",
       "1  2010-01-12T18:09:46Z              NaN   Business     Entrepreneurship   \n",
       "2  2010-10-13T18:07:17Z       2019-10-09  Lifestyle      Other Lifestyle   \n",
       "3  2011-06-20T20:08:38Z       2016-01-13  Lifestyle  Pet Care & Training   \n",
       "4  2011-06-23T18:31:20Z              NaN     Design           Web Design   \n",
       "\n",
       "           topic language                                         course_url  \\\n",
       "0  Vegan Cooking  English           /course/vegan-vegetarian-cooking-school/   \n",
       "1   Lean Startup  English  /course/the-lean-startup-debunking-myths-of-en...   \n",
       "2  Vegan Cooking  English  /course/see-my-personal-motivation-for-becomin...   \n",
       "3   Pet Training  English                /course/complete-dunbar-collection/   \n",
       "4     Web Design  English             /course/web-design-from-the-ground-up/   \n",
       "\n",
       "  instructor_name      instructor_url  \n",
       "0     Angela Poch   /user/angelapoch/  \n",
       "1       Eric Ries     /user/ericries/  \n",
       "2     Angela Poch   /user/angelapoch/  \n",
       "3      Ian Dunbar   /user/ian-dunbar/  \n",
       "4  E Learning Lab  /user/edwin-ang-2/  "
      ]
     },
     "execution_count": 3,
     "metadata": {},
     "output_type": "execute_result"
    }
   ],
   "source": [
    "df_courses.head()"
   ]
  },
  {
   "cell_type": "code",
   "execution_count": 4,
   "id": "420936e6",
   "metadata": {},
   "outputs": [
    {
     "data": {
      "text/html": [
       "<div>\n",
       "<style scoped>\n",
       "    .dataframe tbody tr th:only-of-type {\n",
       "        vertical-align: middle;\n",
       "    }\n",
       "\n",
       "    .dataframe tbody tr th {\n",
       "        vertical-align: top;\n",
       "    }\n",
       "\n",
       "    .dataframe thead th {\n",
       "        text-align: right;\n",
       "    }\n",
       "</style>\n",
       "<table border=\"1\" class=\"dataframe\">\n",
       "  <thead>\n",
       "    <tr style=\"text-align: right;\">\n",
       "      <th></th>\n",
       "      <th>id</th>\n",
       "      <th>price</th>\n",
       "      <th>num_subscribers</th>\n",
       "      <th>avg_rating</th>\n",
       "      <th>num_reviews</th>\n",
       "      <th>num_comments</th>\n",
       "      <th>num_lectures</th>\n",
       "      <th>content_length_min</th>\n",
       "    </tr>\n",
       "  </thead>\n",
       "  <tbody>\n",
       "    <tr>\n",
       "      <th>count</th>\n",
       "      <td>2.097340e+05</td>\n",
       "      <td>209734.000000</td>\n",
       "      <td>2.097340e+05</td>\n",
       "      <td>209734.000000</td>\n",
       "      <td>209734.000000</td>\n",
       "      <td>209734.000000</td>\n",
       "      <td>209734.000000</td>\n",
       "      <td>209734.000000</td>\n",
       "    </tr>\n",
       "    <tr>\n",
       "      <th>mean</th>\n",
       "      <td>3.015403e+06</td>\n",
       "      <td>81.665529</td>\n",
       "      <td>3.096992e+03</td>\n",
       "      <td>3.747179</td>\n",
       "      <td>244.358812</td>\n",
       "      <td>44.874589</td>\n",
       "      <td>36.548395</td>\n",
       "      <td>265.558856</td>\n",
       "    </tr>\n",
       "    <tr>\n",
       "      <th>std</th>\n",
       "      <td>1.342558e+06</td>\n",
       "      <td>117.317846</td>\n",
       "      <td>1.558132e+04</td>\n",
       "      <td>1.533711</td>\n",
       "      <td>2458.098276</td>\n",
       "      <td>355.773107</td>\n",
       "      <td>51.871962</td>\n",
       "      <td>454.448676</td>\n",
       "    </tr>\n",
       "    <tr>\n",
       "      <th>min</th>\n",
       "      <td>1.769000e+03</td>\n",
       "      <td>0.000000</td>\n",
       "      <td>0.000000e+00</td>\n",
       "      <td>0.000000</td>\n",
       "      <td>0.000000</td>\n",
       "      <td>0.000000</td>\n",
       "      <td>0.000000</td>\n",
       "      <td>0.000000</td>\n",
       "    </tr>\n",
       "    <tr>\n",
       "      <th>25%</th>\n",
       "      <td>1.950734e+06</td>\n",
       "      <td>19.990000</td>\n",
       "      <td>2.600000e+01</td>\n",
       "      <td>3.800000</td>\n",
       "      <td>3.000000</td>\n",
       "      <td>1.000000</td>\n",
       "      <td>11.000000</td>\n",
       "      <td>69.000000</td>\n",
       "    </tr>\n",
       "    <tr>\n",
       "      <th>50%</th>\n",
       "      <td>3.292863e+06</td>\n",
       "      <td>34.990000</td>\n",
       "      <td>2.060000e+02</td>\n",
       "      <td>4.333334</td>\n",
       "      <td>17.000000</td>\n",
       "      <td>5.000000</td>\n",
       "      <td>22.000000</td>\n",
       "      <td>133.000000</td>\n",
       "    </tr>\n",
       "    <tr>\n",
       "      <th>75%</th>\n",
       "      <td>4.189458e+06</td>\n",
       "      <td>99.990000</td>\n",
       "      <td>1.435000e+03</td>\n",
       "      <td>4.625000</td>\n",
       "      <td>74.000000</td>\n",
       "      <td>18.000000</td>\n",
       "      <td>42.000000</td>\n",
       "      <td>289.000000</td>\n",
       "    </tr>\n",
       "    <tr>\n",
       "      <th>max</th>\n",
       "      <td>4.914146e+06</td>\n",
       "      <td>999.990000</td>\n",
       "      <td>1.752364e+06</td>\n",
       "      <td>5.000000</td>\n",
       "      <td>436457.000000</td>\n",
       "      <td>39040.000000</td>\n",
       "      <td>1095.000000</td>\n",
       "      <td>22570.000000</td>\n",
       "    </tr>\n",
       "  </tbody>\n",
       "</table>\n",
       "</div>"
      ],
      "text/plain": [
       "                 id          price  num_subscribers     avg_rating  \\\n",
       "count  2.097340e+05  209734.000000     2.097340e+05  209734.000000   \n",
       "mean   3.015403e+06      81.665529     3.096992e+03       3.747179   \n",
       "std    1.342558e+06     117.317846     1.558132e+04       1.533711   \n",
       "min    1.769000e+03       0.000000     0.000000e+00       0.000000   \n",
       "25%    1.950734e+06      19.990000     2.600000e+01       3.800000   \n",
       "50%    3.292863e+06      34.990000     2.060000e+02       4.333334   \n",
       "75%    4.189458e+06      99.990000     1.435000e+03       4.625000   \n",
       "max    4.914146e+06     999.990000     1.752364e+06       5.000000   \n",
       "\n",
       "         num_reviews   num_comments   num_lectures  content_length_min  \n",
       "count  209734.000000  209734.000000  209734.000000       209734.000000  \n",
       "mean      244.358812      44.874589      36.548395          265.558856  \n",
       "std      2458.098276     355.773107      51.871962          454.448676  \n",
       "min         0.000000       0.000000       0.000000            0.000000  \n",
       "25%         3.000000       1.000000      11.000000           69.000000  \n",
       "50%        17.000000       5.000000      22.000000          133.000000  \n",
       "75%        74.000000      18.000000      42.000000          289.000000  \n",
       "max    436457.000000   39040.000000    1095.000000        22570.000000  "
      ]
     },
     "execution_count": 4,
     "metadata": {},
     "output_type": "execute_result"
    }
   ],
   "source": [
    "df_courses.describe()"
   ]
  },
  {
   "cell_type": "code",
   "execution_count": 5,
   "id": "335b60a7",
   "metadata": {
    "scrolled": false
   },
   "outputs": [
    {
     "name": "stdout",
     "output_type": "stream",
     "text": [
      "<class 'pandas.core.frame.DataFrame'>\n",
      "RangeIndex: 209734 entries, 0 to 209733\n",
      "Data columns (total 20 columns):\n",
      " #   Column              Non-Null Count   Dtype  \n",
      "---  ------              --------------   -----  \n",
      " 0   id                  209734 non-null  float64\n",
      " 1   title               209734 non-null  object \n",
      " 2   is_paid             209734 non-null  bool   \n",
      " 3   price               209734 non-null  float64\n",
      " 4   headline            209707 non-null  object \n",
      " 5   num_subscribers     209734 non-null  float64\n",
      " 6   avg_rating          209734 non-null  float64\n",
      " 7   num_reviews         209734 non-null  float64\n",
      " 8   num_comments        209734 non-null  float64\n",
      " 9   num_lectures        209734 non-null  float64\n",
      " 10  content_length_min  209734 non-null  float64\n",
      " 11  published_time      209734 non-null  object \n",
      " 12  last_update_date    209597 non-null  object \n",
      " 13  category            209734 non-null  object \n",
      " 14  subcategory         209734 non-null  object \n",
      " 15  topic               208776 non-null  object \n",
      " 16  language            209734 non-null  object \n",
      " 17  course_url          209734 non-null  object \n",
      " 18  instructor_name     209729 non-null  object \n",
      " 19  instructor_url      209307 non-null  object \n",
      "dtypes: bool(1), float64(8), object(11)\n",
      "memory usage: 30.6+ MB\n"
     ]
    }
   ],
   "source": [
    "df_courses.info()"
   ]
  },
  {
   "cell_type": "markdown",
   "id": "abc33f41",
   "metadata": {},
   "source": [
    "### Courses Data Preprocessing\n",
    "We start by checking for missing in our dataset. We see that there are some None in four columns, but we won't need to do anything about it since they are columns that we are not going to use. Further, we check and confirm that each row corresponds to a unique course and then convert the type of date columns to 'datetime'."
   ]
  },
  {
   "cell_type": "code",
   "execution_count": 6,
   "id": "50ca2b73",
   "metadata": {},
   "outputs": [
    {
     "data": {
      "text/plain": [
       "id                      0\n",
       "title                   0\n",
       "is_paid                 0\n",
       "price                   0\n",
       "headline               27\n",
       "num_subscribers         0\n",
       "avg_rating              0\n",
       "num_reviews             0\n",
       "num_comments            0\n",
       "num_lectures            0\n",
       "content_length_min      0\n",
       "published_time          0\n",
       "last_update_date      137\n",
       "category                0\n",
       "subcategory             0\n",
       "topic                 958\n",
       "language                0\n",
       "course_url              0\n",
       "instructor_name         5\n",
       "instructor_url        427\n",
       "dtype: int64"
      ]
     },
     "execution_count": 6,
     "metadata": {},
     "output_type": "execute_result"
    }
   ],
   "source": [
    "# check for missing values\n",
    "df_courses.isna().sum()"
   ]
  },
  {
   "cell_type": "code",
   "execution_count": 7,
   "id": "2893394c",
   "metadata": {},
   "outputs": [
    {
     "data": {
      "text/plain": [
       "(209734, 20)"
      ]
     },
     "execution_count": 7,
     "metadata": {},
     "output_type": "execute_result"
    }
   ],
   "source": [
    "df_courses.shape"
   ]
  },
  {
   "cell_type": "code",
   "execution_count": 8,
   "id": "aa341bf3",
   "metadata": {
    "scrolled": true
   },
   "outputs": [
    {
     "data": {
      "text/plain": [
       "209734"
      ]
     },
     "execution_count": 8,
     "metadata": {},
     "output_type": "execute_result"
    }
   ],
   "source": [
    "# check for unique values in id column\n",
    "df_courses['id'].nunique()"
   ]
  },
  {
   "cell_type": "code",
   "execution_count": 9,
   "id": "12da8f42",
   "metadata": {},
   "outputs": [],
   "source": [
    "# convert date columns types from object to datetime\n",
    "df_courses['published_time'] = pd.to_datetime(df_courses['published_time'])\n",
    "df_courses['last_update_date'] = pd.to_datetime(df_courses['last_update_date'])"
   ]
  },
  {
   "cell_type": "code",
   "execution_count": 10,
   "id": "ff6c7aea",
   "metadata": {
    "scrolled": true
   },
   "outputs": [
    {
     "name": "stdout",
     "output_type": "stream",
     "text": [
      "2010-01-12 18:09:46+00:00\n",
      "2022-10-05 17:04:08+00:00\n"
     ]
    }
   ],
   "source": [
    "print(df_courses['published_time'].min())\n",
    "print(df_courses['published_time'].max())"
   ]
  },
  {
   "cell_type": "markdown",
   "id": "c9a6b1be",
   "metadata": {},
   "source": [
    "### Load Comments Dataset"
   ]
  },
  {
   "cell_type": "code",
   "execution_count": 11,
   "id": "b2259ed3",
   "metadata": {},
   "outputs": [],
   "source": [
    "# load comments dataset into a dataframe\n",
    "df_comments = pd.read_csv('Comments.csv')"
   ]
  },
  {
   "cell_type": "markdown",
   "id": "770ec00b",
   "metadata": {},
   "source": [
    "### Comments General Information"
   ]
  },
  {
   "cell_type": "code",
   "execution_count": 12,
   "id": "ed2a508c",
   "metadata": {},
   "outputs": [
    {
     "data": {
      "text/html": [
       "<div>\n",
       "<style scoped>\n",
       "    .dataframe tbody tr th:only-of-type {\n",
       "        vertical-align: middle;\n",
       "    }\n",
       "\n",
       "    .dataframe tbody tr th {\n",
       "        vertical-align: top;\n",
       "    }\n",
       "\n",
       "    .dataframe thead th {\n",
       "        text-align: right;\n",
       "    }\n",
       "</style>\n",
       "<table border=\"1\" class=\"dataframe\">\n",
       "  <thead>\n",
       "    <tr style=\"text-align: right;\">\n",
       "      <th></th>\n",
       "      <th>id</th>\n",
       "      <th>course_id</th>\n",
       "      <th>rate</th>\n",
       "      <th>date</th>\n",
       "      <th>display_name</th>\n",
       "      <th>comment</th>\n",
       "    </tr>\n",
       "  </thead>\n",
       "  <tbody>\n",
       "    <tr>\n",
       "      <th>0</th>\n",
       "      <td>88962892</td>\n",
       "      <td>3173036</td>\n",
       "      <td>1.0</td>\n",
       "      <td>2021-06-29T18:54:25-07:00</td>\n",
       "      <td>Rahul</td>\n",
       "      <td>I think a beginner needs more than you think.\\...</td>\n",
       "    </tr>\n",
       "    <tr>\n",
       "      <th>1</th>\n",
       "      <td>125535470</td>\n",
       "      <td>4913148</td>\n",
       "      <td>5.0</td>\n",
       "      <td>2022-10-07T11:17:41-07:00</td>\n",
       "      <td>Marlo</td>\n",
       "      <td>Aviva is such a natural teacher and healer/hea...</td>\n",
       "    </tr>\n",
       "    <tr>\n",
       "      <th>2</th>\n",
       "      <td>68767147</td>\n",
       "      <td>3178386</td>\n",
       "      <td>3.5</td>\n",
       "      <td>2020-10-19T06:35:37-07:00</td>\n",
       "      <td>Yamila Andrea</td>\n",
       "      <td>Muy buena la introducción para entender la bas...</td>\n",
       "    </tr>\n",
       "    <tr>\n",
       "      <th>3</th>\n",
       "      <td>125029758</td>\n",
       "      <td>3175814</td>\n",
       "      <td>5.0</td>\n",
       "      <td>2022-09-30T21:13:49-07:00</td>\n",
       "      <td>Jacqueline</td>\n",
       "      <td>This course is the best on Udemy.  This breakd...</td>\n",
       "    </tr>\n",
       "    <tr>\n",
       "      <th>4</th>\n",
       "      <td>76584052</td>\n",
       "      <td>3174896</td>\n",
       "      <td>4.5</td>\n",
       "      <td>2021-01-30T08:45:11-08:00</td>\n",
       "      <td>Anthony</td>\n",
       "      <td>I found this course very helpful. It was full ...</td>\n",
       "    </tr>\n",
       "  </tbody>\n",
       "</table>\n",
       "</div>"
      ],
      "text/plain": [
       "          id  course_id  rate                       date   display_name  \\\n",
       "0   88962892    3173036   1.0  2021-06-29T18:54:25-07:00          Rahul   \n",
       "1  125535470    4913148   5.0  2022-10-07T11:17:41-07:00          Marlo   \n",
       "2   68767147    3178386   3.5  2020-10-19T06:35:37-07:00  Yamila Andrea   \n",
       "3  125029758    3175814   5.0  2022-09-30T21:13:49-07:00     Jacqueline   \n",
       "4   76584052    3174896   4.5  2021-01-30T08:45:11-08:00        Anthony   \n",
       "\n",
       "                                             comment  \n",
       "0  I think a beginner needs more than you think.\\...  \n",
       "1  Aviva is such a natural teacher and healer/hea...  \n",
       "2  Muy buena la introducción para entender la bas...  \n",
       "3  This course is the best on Udemy.  This breakd...  \n",
       "4  I found this course very helpful. It was full ...  "
      ]
     },
     "execution_count": 12,
     "metadata": {},
     "output_type": "execute_result"
    }
   ],
   "source": [
    "df_comments.head()"
   ]
  },
  {
   "cell_type": "code",
   "execution_count": 13,
   "id": "cd470ce0",
   "metadata": {},
   "outputs": [
    {
     "data": {
      "text/html": [
       "<div>\n",
       "<style scoped>\n",
       "    .dataframe tbody tr th:only-of-type {\n",
       "        vertical-align: middle;\n",
       "    }\n",
       "\n",
       "    .dataframe tbody tr th {\n",
       "        vertical-align: top;\n",
       "    }\n",
       "\n",
       "    .dataframe thead th {\n",
       "        text-align: right;\n",
       "    }\n",
       "</style>\n",
       "<table border=\"1\" class=\"dataframe\">\n",
       "  <thead>\n",
       "    <tr style=\"text-align: right;\">\n",
       "      <th></th>\n",
       "      <th>id</th>\n",
       "      <th>course_id</th>\n",
       "      <th>rate</th>\n",
       "    </tr>\n",
       "  </thead>\n",
       "  <tbody>\n",
       "    <tr>\n",
       "      <th>count</th>\n",
       "      <td>9.411727e+06</td>\n",
       "      <td>9.411727e+06</td>\n",
       "      <td>9.411727e+06</td>\n",
       "    </tr>\n",
       "    <tr>\n",
       "      <th>mean</th>\n",
       "      <td>5.625454e+07</td>\n",
       "      <td>1.589933e+06</td>\n",
       "      <td>4.508870e+00</td>\n",
       "    </tr>\n",
       "    <tr>\n",
       "      <th>std</th>\n",
       "      <td>3.754655e+07</td>\n",
       "      <td>1.100059e+06</td>\n",
       "      <td>8.587239e-01</td>\n",
       "    </tr>\n",
       "    <tr>\n",
       "      <th>min</th>\n",
       "      <td>5.400000e+01</td>\n",
       "      <td>1.769000e+03</td>\n",
       "      <td>5.000000e-01</td>\n",
       "    </tr>\n",
       "    <tr>\n",
       "      <th>25%</th>\n",
       "      <td>2.256843e+07</td>\n",
       "      <td>7.641640e+05</td>\n",
       "      <td>4.000000e+00</td>\n",
       "    </tr>\n",
       "    <tr>\n",
       "      <th>50%</th>\n",
       "      <td>5.296542e+07</td>\n",
       "      <td>1.333640e+06</td>\n",
       "      <td>5.000000e+00</td>\n",
       "    </tr>\n",
       "    <tr>\n",
       "      <th>75%</th>\n",
       "      <td>8.625520e+07</td>\n",
       "      <td>2.243978e+06</td>\n",
       "      <td>5.000000e+00</td>\n",
       "    </tr>\n",
       "    <tr>\n",
       "      <th>max</th>\n",
       "      <td>1.267091e+08</td>\n",
       "      <td>4.913148e+06</td>\n",
       "      <td>5.000000e+00</td>\n",
       "    </tr>\n",
       "  </tbody>\n",
       "</table>\n",
       "</div>"
      ],
      "text/plain": [
       "                 id     course_id          rate\n",
       "count  9.411727e+06  9.411727e+06  9.411727e+06\n",
       "mean   5.625454e+07  1.589933e+06  4.508870e+00\n",
       "std    3.754655e+07  1.100059e+06  8.587239e-01\n",
       "min    5.400000e+01  1.769000e+03  5.000000e-01\n",
       "25%    2.256843e+07  7.641640e+05  4.000000e+00\n",
       "50%    5.296542e+07  1.333640e+06  5.000000e+00\n",
       "75%    8.625520e+07  2.243978e+06  5.000000e+00\n",
       "max    1.267091e+08  4.913148e+06  5.000000e+00"
      ]
     },
     "execution_count": 13,
     "metadata": {},
     "output_type": "execute_result"
    }
   ],
   "source": [
    "df_comments.describe()"
   ]
  },
  {
   "cell_type": "code",
   "execution_count": 14,
   "id": "b8ff1e33",
   "metadata": {},
   "outputs": [
    {
     "name": "stdout",
     "output_type": "stream",
     "text": [
      "<class 'pandas.core.frame.DataFrame'>\n",
      "RangeIndex: 9411727 entries, 0 to 9411726\n",
      "Data columns (total 6 columns):\n",
      " #   Column        Dtype  \n",
      "---  ------        -----  \n",
      " 0   id            int64  \n",
      " 1   course_id     int64  \n",
      " 2   rate          float64\n",
      " 3   date          object \n",
      " 4   display_name  object \n",
      " 5   comment       object \n",
      "dtypes: float64(1), int64(2), object(3)\n",
      "memory usage: 430.8+ MB\n"
     ]
    }
   ],
   "source": [
    "df_comments.info()"
   ]
  },
  {
   "cell_type": "markdown",
   "id": "4e6d23dd",
   "metadata": {},
   "source": [
    "### Comments Data Preprocessing\n",
    "As before, we check for missing values in the comments dataset. This time, however, we choose to completely delete from our dataset the rows that have missing values, since it is a very small percentage and it will not affect our results. In addition, we create a new column for the year that we will use later for the graphics."
   ]
  },
  {
   "cell_type": "code",
   "execution_count": 15,
   "id": "ece800fe",
   "metadata": {},
   "outputs": [
    {
     "data": {
      "text/plain": [
       "id                  0\n",
       "course_id           0\n",
       "rate                0\n",
       "date                0\n",
       "display_name    75362\n",
       "comment          6333\n",
       "dtype: int64"
      ]
     },
     "execution_count": 15,
     "metadata": {},
     "output_type": "execute_result"
    }
   ],
   "source": [
    "# check for missing values\n",
    "df_comments.isna().sum()"
   ]
  },
  {
   "cell_type": "code",
   "execution_count": 16,
   "id": "03fca967",
   "metadata": {},
   "outputs": [
    {
     "data": {
      "text/plain": [
       "(9411727, 6)"
      ]
     },
     "execution_count": 16,
     "metadata": {},
     "output_type": "execute_result"
    }
   ],
   "source": [
    "df_comments.shape"
   ]
  },
  {
   "cell_type": "code",
   "execution_count": 17,
   "id": "c5c116fe",
   "metadata": {},
   "outputs": [
    {
     "data": {
      "text/plain": [
       "(9330843, 6)"
      ]
     },
     "execution_count": 17,
     "metadata": {},
     "output_type": "execute_result"
    }
   ],
   "source": [
    "# remove rows with missing values\n",
    "df_comments = df_comments.dropna(axis=0).reset_index(drop=True)\n",
    "df_comments.shape"
   ]
  },
  {
   "cell_type": "code",
   "execution_count": 18,
   "id": "2d55da8a",
   "metadata": {},
   "outputs": [],
   "source": [
    "# Creating new columns for year based on date column\n",
    "df_comments['date_year'] = pd.to_datetime(df_comments['date'].str[0:10])\n",
    "df_comments['date_year'] = df_comments['date_year'].dt.year"
   ]
  },
  {
   "cell_type": "markdown",
   "id": "ed81b3a9",
   "metadata": {},
   "source": [
    "### Data Analysis and Visualization for both datasets\n",
    "To understand the data and draw conclusions, we created graphical representations to answer the following questions:\n",
    "- What percentage of courses are free and paid?\n",
    "- What are the courses with the most subscribers?\n",
    "- What are the most popular course languages?\n",
    "- What are the categories with the most courses and which categories are chosen by students the most?\n",
    "- How much have the numbers of courses and students changed in recent years?"
   ]
  },
  {
   "cell_type": "code",
   "execution_count": 19,
   "id": "08139fd2",
   "metadata": {},
   "outputs": [
    {
     "data": {
      "image/png": "[encoded data removed]",
      "text/plain": [
       "<Figure size 720x432 with 1 Axes>"
      ]
     },
     "metadata": {},
     "output_type": "display_data"
    }
   ],
   "source": [
    "# create a plot for Free or Paid Courses percentages\n",
    "plt.figure(figsize = (10, 6))\n",
    "plt.pie(df_courses.groupby(['is_paid']).size(), labels = ['Free', 'Paid'], autopct = '%1.1f%%')\n",
    "plt.axis('equal')\n",
    "plt.title(\"Free or Paid Courses\")\n",
    "plt.show()"
   ]
  },
  {
   "cell_type": "code",
   "execution_count": 20,
   "id": "57c9e47f",
   "metadata": {},
   "outputs": [
    {
     "data": {
      "text/plain": [
       "Text(0.5, 1.0, 'Distribution of the price for all courses')"
      ]
     },
     "execution_count": 20,
     "metadata": {},
     "output_type": "execute_result"
    },
    {
     "data": {
      "image/png": "[encoded data removed]",
      "text/plain": [
       "<Figure size 720x432 with 1 Axes>"
      ]
     },
     "metadata": {
      "needs_background": "light"
     },
     "output_type": "display_data"
    }
   ],
   "source": [
    "# Create a plot for the Distribution of price of courses\n",
    "plt.subplots(figsize=(10,6))\n",
    "sns.histplot(data=df_courses, x='price', bins=50)\n",
    "plt.xlabel(\"Price\")\n",
    "plt.ylabel(\"Number of courses\")\n",
    "plt.title(\"Distribution of the price for all courses\")"
   ]
  },
  {
   "cell_type": "code",
   "execution_count": 21,
   "id": "92da53f1",
   "metadata": {
    "scrolled": true
   },
   "outputs": [
    {
     "data": {
      "text/html": [
       "<div>\n",
       "<style scoped>\n",
       "    .dataframe tbody tr th:only-of-type {\n",
       "        vertical-align: middle;\n",
       "    }\n",
       "\n",
       "    .dataframe tbody tr th {\n",
       "        vertical-align: top;\n",
       "    }\n",
       "\n",
       "    .dataframe thead th {\n",
       "        text-align: right;\n",
       "    }\n",
       "</style>\n",
       "<table border=\"1\" class=\"dataframe\">\n",
       "  <thead>\n",
       "    <tr style=\"text-align: right;\">\n",
       "      <th></th>\n",
       "      <th>language</th>\n",
       "      <th>count</th>\n",
       "    </tr>\n",
       "  </thead>\n",
       "  <tbody>\n",
       "    <tr>\n",
       "      <th>15</th>\n",
       "      <td>English</td>\n",
       "      <td>123921</td>\n",
       "    </tr>\n",
       "    <tr>\n",
       "      <th>52</th>\n",
       "      <td>Portuguese</td>\n",
       "      <td>18471</td>\n",
       "    </tr>\n",
       "    <tr>\n",
       "      <th>62</th>\n",
       "      <td>Spanish</td>\n",
       "      <td>17428</td>\n",
       "    </tr>\n",
       "    <tr>\n",
       "      <th>71</th>\n",
       "      <td>Turkish</td>\n",
       "      <td>8100</td>\n",
       "    </tr>\n",
       "    <tr>\n",
       "      <th>34</th>\n",
       "      <td>Japanese</td>\n",
       "      <td>7006</td>\n",
       "    </tr>\n",
       "    <tr>\n",
       "      <th>23</th>\n",
       "      <td>German</td>\n",
       "      <td>6101</td>\n",
       "    </tr>\n",
       "    <tr>\n",
       "      <th>20</th>\n",
       "      <td>French</td>\n",
       "      <td>5465</td>\n",
       "    </tr>\n",
       "    <tr>\n",
       "      <th>2</th>\n",
       "      <td>Arabic</td>\n",
       "      <td>5197</td>\n",
       "    </tr>\n",
       "    <tr>\n",
       "      <th>33</th>\n",
       "      <td>Italian</td>\n",
       "      <td>3637</td>\n",
       "    </tr>\n",
       "    <tr>\n",
       "      <th>56</th>\n",
       "      <td>Russian</td>\n",
       "      <td>2686</td>\n",
       "    </tr>\n",
       "  </tbody>\n",
       "</table>\n",
       "</div>"
      ],
      "text/plain": [
       "      language   count\n",
       "15     English  123921\n",
       "52  Portuguese   18471\n",
       "62     Spanish   17428\n",
       "71     Turkish    8100\n",
       "34    Japanese    7006\n",
       "23      German    6101\n",
       "20      French    5465\n",
       "2       Arabic    5197\n",
       "33     Italian    3637\n",
       "56     Russian    2686"
      ]
     },
     "execution_count": 21,
     "metadata": {},
     "output_type": "execute_result"
    }
   ],
   "source": [
    "# create new dataframe with the top 10 Languages with the most courses\n",
    "df_lang = df_courses.groupby(['language']).size().reset_index(name = 'count').sort_values(\n",
    "    by = 'count', ascending = False).head(10)\n",
    "df_lang"
   ]
  },
  {
   "cell_type": "code",
   "execution_count": 22,
   "id": "69d2082e",
   "metadata": {
    "scrolled": false
   },
   "outputs": [
    {
     "data": {
      "text/plain": [
       "Text(0.5, 1.0, 'Number of courses per language(top 10)')"
      ]
     },
     "execution_count": 22,
     "metadata": {},
     "output_type": "execute_result"
    },
    {
     "data": {
      "image/png": "[encoded data removed]",
      "text/plain": [
       "<Figure size 720x432 with 1 Axes>"
      ]
     },
     "metadata": {
      "needs_background": "light"
     },
     "output_type": "display_data"
    }
   ],
   "source": [
    "# create a plot to show the Number of courses per language(top 10)\n",
    "plt.figure(figsize=(10, 6))\n",
    "sns.barplot(data=df_lang, x='count', y='language', palette='rocket')\n",
    "plt.xlabel(\"Number of courses\")\n",
    "plt.ylabel(\"Languages\")\n",
    "plt.title(\"Number of courses per language(top 10)\")"
   ]
  },
  {
   "cell_type": "code",
   "execution_count": 23,
   "id": "cf7a76a1",
   "metadata": {},
   "outputs": [
    {
     "data": {
      "text/html": [
       "<div>\n",
       "<style scoped>\n",
       "    .dataframe tbody tr th:only-of-type {\n",
       "        vertical-align: middle;\n",
       "    }\n",
       "\n",
       "    .dataframe tbody tr th {\n",
       "        vertical-align: top;\n",
       "    }\n",
       "\n",
       "    .dataframe thead th {\n",
       "        text-align: right;\n",
       "    }\n",
       "</style>\n",
       "<table border=\"1\" class=\"dataframe\">\n",
       "  <thead>\n",
       "    <tr style=\"text-align: right;\">\n",
       "      <th></th>\n",
       "      <th>title</th>\n",
       "      <th>num_subscribers</th>\n",
       "      <th>avg_rating</th>\n",
       "    </tr>\n",
       "  </thead>\n",
       "  <tbody>\n",
       "    <tr>\n",
       "      <th>396</th>\n",
       "      <td>Java Tutorial for Complete Beginners</td>\n",
       "      <td>1752364</td>\n",
       "      <td>4.444383</td>\n",
       "    </tr>\n",
       "    <tr>\n",
       "      <th>10724</th>\n",
       "      <td>2022 Complete Python Bootcamp From Zero to Her...</td>\n",
       "      <td>1612862</td>\n",
       "      <td>4.611872</td>\n",
       "    </tr>\n",
       "    <tr>\n",
       "      <th>16288</th>\n",
       "      <td>Microsoft Excel - Excel from Beginner to Advanced</td>\n",
       "      <td>1108811</td>\n",
       "      <td>4.689838</td>\n",
       "    </tr>\n",
       "    <tr>\n",
       "      <th>10174</th>\n",
       "      <td>Automate the Boring Stuff with Python Programming</td>\n",
       "      <td>1056369</td>\n",
       "      <td>4.676586</td>\n",
       "    </tr>\n",
       "    <tr>\n",
       "      <th>20252</th>\n",
       "      <td>Machine Learning A-Z™: Hands-On Python &amp; R In ...</td>\n",
       "      <td>896340</td>\n",
       "      <td>4.569116</td>\n",
       "    </tr>\n",
       "    <tr>\n",
       "      <th>12120</th>\n",
       "      <td>The Web Developer Bootcamp 2022</td>\n",
       "      <td>823805</td>\n",
       "      <td>4.708899</td>\n",
       "    </tr>\n",
       "    <tr>\n",
       "      <th>7802</th>\n",
       "      <td>Introduction To Python Programming</td>\n",
       "      <td>783638</td>\n",
       "      <td>4.437906</td>\n",
       "    </tr>\n",
       "    <tr>\n",
       "      <th>39113</th>\n",
       "      <td>The Complete 2022 Web Development Bootcamp</td>\n",
       "      <td>771176</td>\n",
       "      <td>4.698089</td>\n",
       "    </tr>\n",
       "    <tr>\n",
       "      <th>9965</th>\n",
       "      <td>Java Programming Masterclass covering Java 11 ...</td>\n",
       "      <td>720304</td>\n",
       "      <td>4.511519</td>\n",
       "    </tr>\n",
       "    <tr>\n",
       "      <th>19303</th>\n",
       "      <td>The Complete Digital Marketing Course - 12 Cou...</td>\n",
       "      <td>706339</td>\n",
       "      <td>4.510407</td>\n",
       "    </tr>\n",
       "  </tbody>\n",
       "</table>\n",
       "</div>"
      ],
      "text/plain": [
       "                                                   title  num_subscribers  \\\n",
       "396                 Java Tutorial for Complete Beginners          1752364   \n",
       "10724  2022 Complete Python Bootcamp From Zero to Her...          1612862   \n",
       "16288  Microsoft Excel - Excel from Beginner to Advanced          1108811   \n",
       "10174  Automate the Boring Stuff with Python Programming          1056369   \n",
       "20252  Machine Learning A-Z™: Hands-On Python & R In ...           896340   \n",
       "12120                    The Web Developer Bootcamp 2022           823805   \n",
       "7802                  Introduction To Python Programming           783638   \n",
       "39113         The Complete 2022 Web Development Bootcamp           771176   \n",
       "9965   Java Programming Masterclass covering Java 11 ...           720304   \n",
       "19303  The Complete Digital Marketing Course - 12 Cou...           706339   \n",
       "\n",
       "       avg_rating  \n",
       "396      4.444383  \n",
       "10724    4.611872  \n",
       "16288    4.689838  \n",
       "10174    4.676586  \n",
       "20252    4.569116  \n",
       "12120    4.708899  \n",
       "7802     4.437906  \n",
       "39113    4.698089  \n",
       "9965     4.511519  \n",
       "19303    4.510407  "
      ]
     },
     "execution_count": 23,
     "metadata": {},
     "output_type": "execute_result"
    }
   ],
   "source": [
    "# create a new dataframe with the top 10 courses with the most subscribers\n",
    "top_sub_courses = df_courses[['title', 'num_subscribers', 'avg_rating']].sort_values(by = 'num_subscribers', ascending = False).head(10)\n",
    "top_sub_courses['num_subscribers'] = top_sub_courses['num_subscribers'].astype(int)\n",
    "top_sub_courses"
   ]
  },
  {
   "cell_type": "code",
   "execution_count": 24,
   "id": "31a464d6",
   "metadata": {},
   "outputs": [
    {
     "data": {
      "text/plain": [
       "Text(0.5, 1.0, 'Number of subscribers per course(top 10)')"
      ]
     },
     "execution_count": 24,
     "metadata": {},
     "output_type": "execute_result"
    },
    {
     "data": {
      "image/png": "[encoded data removed]",
      "text/plain": [
       "<Figure size 720x432 with 1 Axes>"
      ]
     },
     "metadata": {
      "needs_background": "light"
     },
     "output_type": "display_data"
    }
   ],
   "source": [
    "# create a plot to show the Number of subscribers per course(top 10)\n",
    "plt.figure(figsize=(10, 6))\n",
    "sns.barplot(data=top_sub_courses, x='num_subscribers', y='title', palette='rocket')\n",
    "plt.xlabel(\"Number of subscribers\")\n",
    "plt.ylabel(\"Courses\")\n",
    "plt.title(\"Number of subscribers per course(top 10)\")"
   ]
  },
  {
   "cell_type": "code",
   "execution_count": 25,
   "id": "37c0e10f",
   "metadata": {},
   "outputs": [
    {
     "data": {
      "text/plain": [
       "13"
      ]
     },
     "execution_count": 25,
     "metadata": {},
     "output_type": "execute_result"
    }
   ],
   "source": [
    "# check how many unique categories there are\n",
    "df_courses['category'].nunique()"
   ]
  },
  {
   "cell_type": "code",
   "execution_count": 26,
   "id": "1f3459ae",
   "metadata": {},
   "outputs": [
    {
     "data": {
      "text/html": [
       "<div>\n",
       "<style scoped>\n",
       "    .dataframe tbody tr th:only-of-type {\n",
       "        vertical-align: middle;\n",
       "    }\n",
       "\n",
       "    .dataframe tbody tr th {\n",
       "        vertical-align: top;\n",
       "    }\n",
       "\n",
       "    .dataframe thead th {\n",
       "        text-align: right;\n",
       "    }\n",
       "</style>\n",
       "<table border=\"1\" class=\"dataframe\">\n",
       "  <thead>\n",
       "    <tr style=\"text-align: right;\">\n",
       "      <th></th>\n",
       "      <th>category</th>\n",
       "      <th>total subs</th>\n",
       "    </tr>\n",
       "  </thead>\n",
       "  <tbody>\n",
       "    <tr>\n",
       "      <th>2</th>\n",
       "      <td>Development</td>\n",
       "      <td>213749682.0</td>\n",
       "    </tr>\n",
       "    <tr>\n",
       "      <th>5</th>\n",
       "      <td>IT &amp; Software</td>\n",
       "      <td>106772852.0</td>\n",
       "    </tr>\n",
       "    <tr>\n",
       "      <th>0</th>\n",
       "      <td>Business</td>\n",
       "      <td>70012074.0</td>\n",
       "    </tr>\n",
       "    <tr>\n",
       "      <th>1</th>\n",
       "      <td>Design</td>\n",
       "      <td>47989137.0</td>\n",
       "    </tr>\n",
       "    <tr>\n",
       "      <th>7</th>\n",
       "      <td>Marketing</td>\n",
       "      <td>40803010.0</td>\n",
       "    </tr>\n",
       "    <tr>\n",
       "      <th>12</th>\n",
       "      <td>Teaching &amp; Academics</td>\n",
       "      <td>38302240.0</td>\n",
       "    </tr>\n",
       "    <tr>\n",
       "      <th>10</th>\n",
       "      <td>Personal Development</td>\n",
       "      <td>37214172.0</td>\n",
       "    </tr>\n",
       "    <tr>\n",
       "      <th>9</th>\n",
       "      <td>Office Productivity</td>\n",
       "      <td>27613503.0</td>\n",
       "    </tr>\n",
       "    <tr>\n",
       "      <th>3</th>\n",
       "      <td>Finance &amp; Accounting</td>\n",
       "      <td>23822748.0</td>\n",
       "    </tr>\n",
       "    <tr>\n",
       "      <th>11</th>\n",
       "      <td>Photography &amp; Video</td>\n",
       "      <td>13720894.0</td>\n",
       "    </tr>\n",
       "    <tr>\n",
       "      <th>4</th>\n",
       "      <td>Health &amp; Fitness</td>\n",
       "      <td>10967501.0</td>\n",
       "    </tr>\n",
       "    <tr>\n",
       "      <th>6</th>\n",
       "      <td>Lifestyle</td>\n",
       "      <td>10066453.0</td>\n",
       "    </tr>\n",
       "    <tr>\n",
       "      <th>8</th>\n",
       "      <td>Music</td>\n",
       "      <td>8510231.0</td>\n",
       "    </tr>\n",
       "  </tbody>\n",
       "</table>\n",
       "</div>"
      ],
      "text/plain": [
       "                category   total subs\n",
       "2            Development  213749682.0\n",
       "5          IT & Software  106772852.0\n",
       "0               Business   70012074.0\n",
       "1                 Design   47989137.0\n",
       "7              Marketing   40803010.0\n",
       "12  Teaching & Academics   38302240.0\n",
       "10  Personal Development   37214172.0\n",
       "9    Office Productivity   27613503.0\n",
       "3   Finance & Accounting   23822748.0\n",
       "11   Photography & Video   13720894.0\n",
       "4       Health & Fitness   10967501.0\n",
       "6              Lifestyle   10066453.0\n",
       "8                  Music    8510231.0"
      ]
     },
     "execution_count": 26,
     "metadata": {},
     "output_type": "execute_result"
    }
   ],
   "source": [
    "# create new dataframe with the total subs per category\n",
    "df_categ = df_courses.groupby('category')['num_subscribers'].sum().reset_index(name = 'total subs').sort_values(\n",
    "    by = 'total subs', ascending = False)\n",
    "df_categ"
   ]
  },
  {
   "cell_type": "code",
   "execution_count": 27,
   "id": "283572ff",
   "metadata": {},
   "outputs": [
    {
     "data": {
      "text/plain": [
       "Text(0.5, 1.0, 'Number of subscribers per Category')"
      ]
     },
     "execution_count": 27,
     "metadata": {},
     "output_type": "execute_result"
    },
    {
     "data": {
      "image/png": "[encoded data removed]",
      "text/plain": [
       "<Figure size 720x432 with 1 Axes>"
      ]
     },
     "metadata": {
      "needs_background": "light"
     },
     "output_type": "display_data"
    }
   ],
   "source": [
    "# create a plot to show the Total Number of subscribers per category\n",
    "plt.figure(figsize=(10, 6))\n",
    "sns.barplot(data=df_categ, x='total subs', y='category', palette='rocket')\n",
    "plt.xlabel(\"Number of subscribers\")\n",
    "plt.ylabel(\"Category\")\n",
    "plt.title(\"Number of subscribers per Category\")"
   ]
  },
  {
   "cell_type": "code",
   "execution_count": 28,
   "id": "24e957bb",
   "metadata": {
    "scrolled": false
   },
   "outputs": [
    {
     "data": {
      "text/plain": [
       "Text(0.5, 1.0, 'Number of courses per category')"
      ]
     },
     "execution_count": 28,
     "metadata": {},
     "output_type": "execute_result"
    },
    {
     "data": {
      "image/png": "[encoded data removed]",
      "text/plain": [
       "<Figure size 720x432 with 1 Axes>"
      ]
     },
     "metadata": {
      "needs_background": "light"
     },
     "output_type": "display_data"
    }
   ],
   "source": [
    "# create a plot to show the Number of courses per category\n",
    "plt.figure(figsize=(10, 6))\n",
    "sns.countplot(data=df_courses, y='category', order=df_courses['category'].value_counts().sort_values(ascending=False).index, palette='rocket')\n",
    "plt.xlabel(\"Number of courses\")\n",
    "plt.ylabel(\"Category\")\n",
    "plt.title(\"Number of courses per category\")"
   ]
  },
  {
   "cell_type": "code",
   "execution_count": 29,
   "id": "8f9c3566",
   "metadata": {},
   "outputs": [
    {
     "data": {
      "text/plain": [
       "Text(0.5, 1.0, 'Number of courses published per year')"
      ]
     },
     "execution_count": 29,
     "metadata": {},
     "output_type": "execute_result"
    },
    {
     "data": {
      "image/png": "[encoded data removed]",
      "text/plain": [
       "<Figure size 720x432 with 1 Axes>"
      ]
     },
     "metadata": {
      "needs_background": "light"
     },
     "output_type": "display_data"
    }
   ],
   "source": [
    "# create year column from published time column\n",
    "df_courses['published_year'] = df_courses['published_time'].dt.year\n",
    "\n",
    "# Group the year column and count the number of courses per year\n",
    "df_year = df_courses.groupby(['published_year']).size().reset_index(name = 'count')\n",
    "\n",
    "# create the plot\n",
    "plt.figure(figsize=(10, 6))\n",
    "sns.barplot(data=df_year, y='count', x='published_year', palette='rocket_r')\n",
    "plt.xlabel(\"Published year\")\n",
    "plt.ylabel(\"Number of courses\")\n",
    "plt.title(\"Number of courses published per year\")"
   ]
  },
  {
   "cell_type": "code",
   "execution_count": 30,
   "id": "5ed4c262",
   "metadata": {},
   "outputs": [
    {
     "data": {
      "text/html": [
       "<div>\n",
       "<style scoped>\n",
       "    .dataframe tbody tr th:only-of-type {\n",
       "        vertical-align: middle;\n",
       "    }\n",
       "\n",
       "    .dataframe tbody tr th {\n",
       "        vertical-align: top;\n",
       "    }\n",
       "\n",
       "    .dataframe thead th {\n",
       "        text-align: right;\n",
       "    }\n",
       "</style>\n",
       "<table border=\"1\" class=\"dataframe\">\n",
       "  <thead>\n",
       "    <tr style=\"text-align: right;\">\n",
       "      <th></th>\n",
       "      <th>published_year</th>\n",
       "      <th>count</th>\n",
       "    </tr>\n",
       "  </thead>\n",
       "  <tbody>\n",
       "    <tr>\n",
       "      <th>0</th>\n",
       "      <td>2010</td>\n",
       "      <td>4</td>\n",
       "    </tr>\n",
       "    <tr>\n",
       "      <th>1</th>\n",
       "      <td>2011</td>\n",
       "      <td>57</td>\n",
       "    </tr>\n",
       "    <tr>\n",
       "      <th>2</th>\n",
       "      <td>2012</td>\n",
       "      <td>464</td>\n",
       "    </tr>\n",
       "    <tr>\n",
       "      <th>3</th>\n",
       "      <td>2013</td>\n",
       "      <td>1778</td>\n",
       "    </tr>\n",
       "    <tr>\n",
       "      <th>4</th>\n",
       "      <td>2014</td>\n",
       "      <td>3404</td>\n",
       "    </tr>\n",
       "    <tr>\n",
       "      <th>5</th>\n",
       "      <td>2015</td>\n",
       "      <td>7102</td>\n",
       "    </tr>\n",
       "    <tr>\n",
       "      <th>6</th>\n",
       "      <td>2016</td>\n",
       "      <td>7975</td>\n",
       "    </tr>\n",
       "    <tr>\n",
       "      <th>7</th>\n",
       "      <td>2017</td>\n",
       "      <td>12258</td>\n",
       "    </tr>\n",
       "    <tr>\n",
       "      <th>8</th>\n",
       "      <td>2018</td>\n",
       "      <td>20653</td>\n",
       "    </tr>\n",
       "    <tr>\n",
       "      <th>9</th>\n",
       "      <td>2019</td>\n",
       "      <td>23529</td>\n",
       "    </tr>\n",
       "    <tr>\n",
       "      <th>10</th>\n",
       "      <td>2020</td>\n",
       "      <td>44929</td>\n",
       "    </tr>\n",
       "    <tr>\n",
       "      <th>11</th>\n",
       "      <td>2021</td>\n",
       "      <td>51457</td>\n",
       "    </tr>\n",
       "    <tr>\n",
       "      <th>12</th>\n",
       "      <td>2022</td>\n",
       "      <td>36124</td>\n",
       "    </tr>\n",
       "  </tbody>\n",
       "</table>\n",
       "</div>"
      ],
      "text/plain": [
       "    published_year  count\n",
       "0             2010      4\n",
       "1             2011     57\n",
       "2             2012    464\n",
       "3             2013   1778\n",
       "4             2014   3404\n",
       "5             2015   7102\n",
       "6             2016   7975\n",
       "7             2017  12258\n",
       "8             2018  20653\n",
       "9             2019  23529\n",
       "10            2020  44929\n",
       "11            2021  51457\n",
       "12            2022  36124"
      ]
     },
     "execution_count": 30,
     "metadata": {},
     "output_type": "execute_result"
    }
   ],
   "source": [
    "df_year"
   ]
  },
  {
   "cell_type": "code",
   "execution_count": 31,
   "id": "d558b384",
   "metadata": {},
   "outputs": [
    {
     "data": {
      "text/plain": [
       "Text(0.5, 1.0, 'Number of comments posted per year')"
      ]
     },
     "execution_count": 31,
     "metadata": {},
     "output_type": "execute_result"
    },
    {
     "data": {
      "image/png": "[encoded data removed]",
      "text/plain": [
       "<Figure size 720x432 with 1 Axes>"
      ]
     },
     "metadata": {
      "needs_background": "light"
     },
     "output_type": "display_data"
    }
   ],
   "source": [
    "# Group the year column and count the number of comments per year\n",
    "df_comments_year = df_comments.groupby(['date_year']).size().reset_index(name = 'count')\n",
    "\n",
    "# create the plot\n",
    "plt.figure(figsize=(10, 6))\n",
    "sns.barplot(data=df_comments_year, y='count', x='date_year', palette='rocket_r')\n",
    "plt.xlabel(\"Posted year\")\n",
    "plt.ylabel(\"Number of comments\")\n",
    "plt.title(\"Number of comments posted per year\")"
   ]
  }
 ],
 "metadata": {
  "kernelspec": {
   "display_name": "Python 3 (ipykernel)",
   "language": "python",
   "name": "python3"
  },
  "language_info": {
   "codemirror_mode": {
    "name": "ipython",
    "version": 3
   },
   "file_extension": ".py",
   "mimetype": "text/x-python",
   "name": "python",
   "nbconvert_exporter": "python",
   "pygments_lexer": "ipython3",
   "version": "3.9.7"
  }
 },
 "nbformat": 4,
 "nbformat_minor": 5
}
